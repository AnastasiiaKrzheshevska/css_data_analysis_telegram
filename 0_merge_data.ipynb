{
 "cells": [
  {
   "cell_type": "code",
   "execution_count": 14,
   "id": "09b4e301",
   "metadata": {},
   "outputs": [],
   "source": [
    "import os\n",
    "import pandas as pd\n",
    "import glob"
   ]
  },
  {
   "cell_type": "code",
   "execution_count": 56,
   "id": "d076df7c",
   "metadata": {},
   "outputs": [],
   "source": [
    "DIALOGS_DATA_PATH = \"C:/data/dialogs\"\n",
    "DIALOGS_META_DATA_PATH = \"C:/data/dialogs_meta\"\n",
    "\n",
    "MERGED_DATA_PATH = \"C:/data/merged_data\""
   ]
  },
  {
   "cell_type": "code",
   "execution_count": null,
   "id": "91db9518",
   "metadata": {},
   "outputs": [],
   "source": []
  },
  {
   "cell_type": "code",
   "execution_count": 57,
   "id": "65a13565",
   "metadata": {},
   "outputs": [
    {
     "name": "stdout",
     "output_type": "stream",
     "text": [
      " Volume in drive C has no label.\n",
      " Volume Serial Number is A222-3295\n",
      "\n",
      " Directory of C:\\data\n",
      "\n",
      "11.05.2022  13:43    <DIR>          .\n",
      "11.05.2022  13:43    <DIR>          ..\n",
      "24.02.2022  07:08    <DIR>          dialogs\n",
      "24.02.2022  05:02    <DIR>          dialogs_meta\n",
      "               0 File(s)              0 bytes\n",
      "               4 Dir(s)  22я520я741я888 bytes free\n"
     ]
    }
   ],
   "source": [
    "!dir \"C:/data/\""
   ]
  },
  {
   "cell_type": "code",
   "execution_count": 58,
   "id": "6d0eddab",
   "metadata": {},
   "outputs": [],
   "source": [
    "dialogs_data_files = glob.glob(f\"{DIALOGS_DATA_PATH}/*.csv\")\n",
    "dialogs_meta_data_files = glob.glob(f\"{DIALOGS_META_DATA_PATH}/*.json\")"
   ]
  },
  {
   "cell_type": "code",
   "execution_count": null,
   "id": "2fe2b8ac",
   "metadata": {},
   "outputs": [],
   "source": []
  },
  {
   "cell_type": "markdown",
   "id": "78cc73b6",
   "metadata": {},
   "source": [
    "## merging all dialogs_data (csv files) into one"
   ]
  },
  {
   "cell_type": "code",
   "execution_count": 59,
   "id": "4d582c3b",
   "metadata": {},
   "outputs": [],
   "source": [
    "df_array = []\n",
    "\n",
    "for d in dialogs_data_files:\n",
    "    local_df = pd.read_csv(d)\n",
    "    local_df[\"dialog_id\"] = os.path.basename(d).split(\".\")[0]\n",
    "    \n",
    "    df_array.append(local_df)\n",
    "    \n",
    "df = pd.concat(df_array, ignore_index=True)"
   ]
  },
  {
   "cell_type": "code",
   "execution_count": 60,
   "id": "96e470a8",
   "metadata": {},
   "outputs": [],
   "source": [
    "if not os.path.isdir(MERGED_DATA_PATH):\n",
    "    os.mkdir(MERGED_DATA_PATH)\n",
    "\n",
    "if \"Unnamed: 0\" in df:\n",
    "    df = df.drop([\"Unnamed: 0\"], axis=True)\n",
    "    \n",
    "df.to_csv(f\"{MERGED_DATA_PATH}/dialogs_data_all.csv\", index=False)"
   ]
  },
  {
   "cell_type": "code",
   "execution_count": 61,
   "id": "16776850",
   "metadata": {},
   "outputs": [
    {
     "data": {
      "text/plain": [
       "(725729, 9)"
      ]
     },
     "execution_count": 61,
     "metadata": {},
     "output_type": "execute_result"
    }
   ],
   "source": [
    "df.shape"
   ]
  },
  {
   "cell_type": "code",
   "execution_count": 66,
   "id": "4672e8ce",
   "metadata": {},
   "outputs": [
    {
     "data": {
      "text/html": [
       "<div>\n",
       "<style scoped>\n",
       "    .dataframe tbody tr th:only-of-type {\n",
       "        vertical-align: middle;\n",
       "    }\n",
       "\n",
       "    .dataframe tbody tr th {\n",
       "        vertical-align: top;\n",
       "    }\n",
       "\n",
       "    .dataframe thead th {\n",
       "        text-align: right;\n",
       "    }\n",
       "</style>\n",
       "<table border=\"1\" class=\"dataframe\">\n",
       "  <thead>\n",
       "    <tr style=\"text-align: right;\">\n",
       "      <th></th>\n",
       "      <th>id</th>\n",
       "      <th>date</th>\n",
       "      <th>from_id</th>\n",
       "      <th>to_id</th>\n",
       "      <th>fwd_from</th>\n",
       "      <th>message</th>\n",
       "      <th>type</th>\n",
       "      <th>duration</th>\n",
       "      <th>dialog_id</th>\n",
       "    </tr>\n",
       "  </thead>\n",
       "  <tbody>\n",
       "    <tr>\n",
       "      <th>0</th>\n",
       "      <td>896</td>\n",
       "      <td>2022-02-22 13:10:49+00:00</td>\n",
       "      <td>NaN</td>\n",
       "      <td>PeerChannel(channel_id=1121077046)</td>\n",
       "      <td>NaN</td>\n",
       "      <td>NaN</td>\n",
       "      <td>text</td>\n",
       "      <td>NaN</td>\n",
       "      <td>-1001121077046</td>\n",
       "    </tr>\n",
       "    <tr>\n",
       "      <th>1</th>\n",
       "      <td>895</td>\n",
       "      <td>2022-02-22 13:10:41+00:00</td>\n",
       "      <td>NaN</td>\n",
       "      <td>PeerChannel(channel_id=1121077046)</td>\n",
       "      <td>NaN</td>\n",
       "      <td>​​Твоя тривога має місце бути.\\n\\nМи справді н...</td>\n",
       "      <td>photo</td>\n",
       "      <td>NaN</td>\n",
       "      <td>-1001121077046</td>\n",
       "    </tr>\n",
       "    <tr>\n",
       "      <th>2</th>\n",
       "      <td>894</td>\n",
       "      <td>2022-02-21 15:50:55+00:00</td>\n",
       "      <td>NaN</td>\n",
       "      <td>PeerChannel(channel_id=1121077046)</td>\n",
       "      <td>NaN</td>\n",
       "      <td>NaN</td>\n",
       "      <td>photo</td>\n",
       "      <td>NaN</td>\n",
       "      <td>-1001121077046</td>\n",
       "    </tr>\n",
       "    <tr>\n",
       "      <th>3</th>\n",
       "      <td>893</td>\n",
       "      <td>2022-02-14 13:10:05+00:00</td>\n",
       "      <td>NaN</td>\n",
       "      <td>PeerChannel(channel_id=1121077046)</td>\n",
       "      <td>NaN</td>\n",
       "      <td>​​​​Можливо, ти сьогодні пішов на пари чи робо...</td>\n",
       "      <td>photo</td>\n",
       "      <td>NaN</td>\n",
       "      <td>-1001121077046</td>\n",
       "    </tr>\n",
       "    <tr>\n",
       "      <th>4</th>\n",
       "      <td>892</td>\n",
       "      <td>2022-02-14 10:30:06+00:00</td>\n",
       "      <td>NaN</td>\n",
       "      <td>PeerChannel(channel_id=1121077046)</td>\n",
       "      <td>NaN</td>\n",
       "      <td>NaN</td>\n",
       "      <td>photo</td>\n",
       "      <td>NaN</td>\n",
       "      <td>-1001121077046</td>\n",
       "    </tr>\n",
       "    <tr>\n",
       "      <th>5</th>\n",
       "      <td>891</td>\n",
       "      <td>2022-02-12 14:00:04+00:00</td>\n",
       "      <td>NaN</td>\n",
       "      <td>PeerChannel(channel_id=1121077046)</td>\n",
       "      <td>NaN</td>\n",
       "      <td>​​Маєш пару на 14-те?\\n\\nЧи ти та сама людинка...</td>\n",
       "      <td>photo</td>\n",
       "      <td>NaN</td>\n",
       "      <td>-1001121077046</td>\n",
       "    </tr>\n",
       "    <tr>\n",
       "      <th>6</th>\n",
       "      <td>890</td>\n",
       "      <td>2022-02-10 10:00:04+00:00</td>\n",
       "      <td>NaN</td>\n",
       "      <td>PeerChannel(channel_id=1121077046)</td>\n",
       "      <td>NaN</td>\n",
       "      <td>​​​​Любов варта всього, пам'ятаєш же?\\n\\nМи ві...</td>\n",
       "      <td>photo</td>\n",
       "      <td>NaN</td>\n",
       "      <td>-1001121077046</td>\n",
       "    </tr>\n",
       "    <tr>\n",
       "      <th>7</th>\n",
       "      <td>889</td>\n",
       "      <td>2022-02-07 12:00:19+00:00</td>\n",
       "      <td>NaN</td>\n",
       "      <td>PeerChannel(channel_id=1121077046)</td>\n",
       "      <td>NaN</td>\n",
       "      <td>NaN</td>\n",
       "      <td>photo</td>\n",
       "      <td>NaN</td>\n",
       "      <td>-1001121077046</td>\n",
       "    </tr>\n",
       "    <tr>\n",
       "      <th>8</th>\n",
       "      <td>888</td>\n",
       "      <td>2022-02-03 10:00:10+00:00</td>\n",
       "      <td>NaN</td>\n",
       "      <td>PeerChannel(channel_id=1121077046)</td>\n",
       "      <td>NaN</td>\n",
       "      <td>​​Могилянка — твоя, моя, наша спільна — повсяк...</td>\n",
       "      <td>photo</td>\n",
       "      <td>NaN</td>\n",
       "      <td>-1001121077046</td>\n",
       "    </tr>\n",
       "    <tr>\n",
       "      <th>9</th>\n",
       "      <td>887</td>\n",
       "      <td>2022-01-31 07:01:01+00:00</td>\n",
       "      <td>NaN</td>\n",
       "      <td>PeerChannel(channel_id=1121077046)</td>\n",
       "      <td>NaN</td>\n",
       "      <td>NaN</td>\n",
       "      <td>photo</td>\n",
       "      <td>NaN</td>\n",
       "      <td>-1001121077046</td>\n",
       "    </tr>\n",
       "  </tbody>\n",
       "</table>\n",
       "</div>"
      ],
      "text/plain": [
       "    id                       date from_id                               to_id  \\\n",
       "0  896  2022-02-22 13:10:49+00:00     NaN  PeerChannel(channel_id=1121077046)   \n",
       "1  895  2022-02-22 13:10:41+00:00     NaN  PeerChannel(channel_id=1121077046)   \n",
       "2  894  2022-02-21 15:50:55+00:00     NaN  PeerChannel(channel_id=1121077046)   \n",
       "3  893  2022-02-14 13:10:05+00:00     NaN  PeerChannel(channel_id=1121077046)   \n",
       "4  892  2022-02-14 10:30:06+00:00     NaN  PeerChannel(channel_id=1121077046)   \n",
       "5  891  2022-02-12 14:00:04+00:00     NaN  PeerChannel(channel_id=1121077046)   \n",
       "6  890  2022-02-10 10:00:04+00:00     NaN  PeerChannel(channel_id=1121077046)   \n",
       "7  889  2022-02-07 12:00:19+00:00     NaN  PeerChannel(channel_id=1121077046)   \n",
       "8  888  2022-02-03 10:00:10+00:00     NaN  PeerChannel(channel_id=1121077046)   \n",
       "9  887  2022-01-31 07:01:01+00:00     NaN  PeerChannel(channel_id=1121077046)   \n",
       "\n",
       "  fwd_from                                            message   type  \\\n",
       "0      NaN                                                NaN   text   \n",
       "1      NaN  ​​Твоя тривога має місце бути.\\n\\nМи справді н...  photo   \n",
       "2      NaN                                                NaN  photo   \n",
       "3      NaN  ​​​​Можливо, ти сьогодні пішов на пари чи робо...  photo   \n",
       "4      NaN                                                NaN  photo   \n",
       "5      NaN  ​​Маєш пару на 14-те?\\n\\nЧи ти та сама людинка...  photo   \n",
       "6      NaN  ​​​​Любов варта всього, пам'ятаєш же?\\n\\nМи ві...  photo   \n",
       "7      NaN                                                NaN  photo   \n",
       "8      NaN  ​​Могилянка — твоя, моя, наша спільна — повсяк...  photo   \n",
       "9      NaN                                                NaN  photo   \n",
       "\n",
       "   duration       dialog_id  \n",
       "0       NaN  -1001121077046  \n",
       "1       NaN  -1001121077046  \n",
       "2       NaN  -1001121077046  \n",
       "3       NaN  -1001121077046  \n",
       "4       NaN  -1001121077046  \n",
       "5       NaN  -1001121077046  \n",
       "6       NaN  -1001121077046  \n",
       "7       NaN  -1001121077046  \n",
       "8       NaN  -1001121077046  \n",
       "9       NaN  -1001121077046  "
      ]
     },
     "execution_count": 66,
     "metadata": {},
     "output_type": "execute_result"
    }
   ],
   "source": [
    "df.head(10)"
   ]
  },
  {
   "cell_type": "code",
   "execution_count": 67,
   "id": "d1bd96f3",
   "metadata": {},
   "outputs": [
    {
     "data": {
      "text/plain": [
       "('2017-07-31 13:46:48+00:00', '2022-02-24 03:33:31+00:00')"
      ]
     },
     "execution_count": 67,
     "metadata": {},
     "output_type": "execute_result"
    }
   ],
   "source": [
    "min(df[\"date\"]),max(df[\"date\"])"
   ]
  },
  {
   "cell_type": "code",
   "execution_count": 68,
   "id": "2a1aafab",
   "metadata": {},
   "outputs": [
    {
     "data": {
      "text/plain": [
       "type\n",
       "photo       57906\n",
       "sticker     27604\n",
       "text       599458\n",
       "video       14176\n",
       "voice       26585\n",
       "Name: type, dtype: int64"
      ]
     },
     "execution_count": 68,
     "metadata": {},
     "output_type": "execute_result"
    }
   ],
   "source": [
    "df.groupby([\"type\"])[\"type\"].count()"
   ]
  },
  {
   "cell_type": "code",
   "execution_count": 69,
   "id": "66a677a9",
   "metadata": {},
   "outputs": [
    {
     "data": {
      "text/plain": [
       "type\n",
       "photo            0.0\n",
       "sticker          0.0\n",
       "text             0.0\n",
       "video      1073092.0\n",
       "voice       467192.0\n",
       "Name: duration, dtype: float64"
      ]
     },
     "execution_count": 69,
     "metadata": {},
     "output_type": "execute_result"
    }
   ],
   "source": [
    "df.groupby([\"type\"])[\"duration\"].sum()"
   ]
  },
  {
   "cell_type": "markdown",
   "id": "e24460df",
   "metadata": {},
   "source": [
    "## merging all dialogs_meta_data (json files) into one"
   ]
  },
  {
   "cell_type": "code",
   "execution_count": 70,
   "id": "3cecdc78",
   "metadata": {},
   "outputs": [],
   "source": [
    "df_array = []\n",
    "\n",
    "for d in dialogs_meta_data_files:\n",
    "    local_df = pd.read_json(d)\n",
    "    local_df = local_df.rename({'id': 'dialog_id'}, axis=1)\n",
    "    df_array.append(local_df)\n",
    "    \n",
    "df_meta = pd.concat(df_array, ignore_index=True)"
   ]
  },
  {
   "cell_type": "code",
   "execution_count": 71,
   "id": "6b458ce5",
   "metadata": {},
   "outputs": [],
   "source": [
    "df_meta.to_csv(f\"{MERGED_DATA_PATH}/dialogs_users_all.csv\", index=False)"
   ]
  },
  {
   "cell_type": "code",
   "execution_count": 72,
   "id": "313b23f0",
   "metadata": {},
   "outputs": [
    {
     "data": {
      "text/plain": [
       "(2227, 4)"
      ]
     },
     "execution_count": 72,
     "metadata": {},
     "output_type": "execute_result"
    }
   ],
   "source": [
    "df_meta.shape"
   ]
  },
  {
   "cell_type": "code",
   "execution_count": 73,
   "id": "ef6f51b9",
   "metadata": {},
   "outputs": [
    {
     "data": {
      "text/html": [
       "<div>\n",
       "<style scoped>\n",
       "    .dataframe tbody tr th:only-of-type {\n",
       "        vertical-align: middle;\n",
       "    }\n",
       "\n",
       "    .dataframe tbody tr th {\n",
       "        vertical-align: top;\n",
       "    }\n",
       "\n",
       "    .dataframe thead th {\n",
       "        text-align: right;\n",
       "    }\n",
       "</style>\n",
       "<table border=\"1\" class=\"dataframe\">\n",
       "  <thead>\n",
       "    <tr style=\"text-align: right;\">\n",
       "      <th></th>\n",
       "      <th>dialog_id</th>\n",
       "      <th>name</th>\n",
       "      <th>type</th>\n",
       "      <th>users</th>\n",
       "    </tr>\n",
       "  </thead>\n",
       "  <tbody>\n",
       "    <tr>\n",
       "      <th>0</th>\n",
       "      <td>-1001157055007</td>\n",
       "      <td>Украшения</td>\n",
       "      <td>Channel</td>\n",
       "      <td>{'user_id': 564960030, 'first_name': 'Анастаси...</td>\n",
       "    </tr>\n",
       "    <tr>\n",
       "      <th>1</th>\n",
       "      <td>-1001166945561</td>\n",
       "      <td>Музыка</td>\n",
       "      <td>Channel</td>\n",
       "      <td>{'user_id': 872142485, 'first_name': 'Мама', '...</td>\n",
       "    </tr>\n",
       "    <tr>\n",
       "      <th>2</th>\n",
       "      <td>-1001166945561</td>\n",
       "      <td>Музыка</td>\n",
       "      <td>Channel</td>\n",
       "      <td>{'user_id': 564960030, 'first_name': 'Анастаси...</td>\n",
       "    </tr>\n",
       "    <tr>\n",
       "      <th>3</th>\n",
       "      <td>-1001180354971</td>\n",
       "      <td>Колодій 2021💫</td>\n",
       "      <td>Group</td>\n",
       "      <td>{'user_id': 559734164, 'first_name': 'Angelina...</td>\n",
       "    </tr>\n",
       "    <tr>\n",
       "      <th>4</th>\n",
       "      <td>-1001180354971</td>\n",
       "      <td>Колодій 2021💫</td>\n",
       "      <td>Group</td>\n",
       "      <td>{'user_id': 443419481, 'first_name': 'Олексій'...</td>\n",
       "    </tr>\n",
       "    <tr>\n",
       "      <th>5</th>\n",
       "      <td>-1001180354971</td>\n",
       "      <td>Колодій 2021💫</td>\n",
       "      <td>Group</td>\n",
       "      <td>{'user_id': 565439585, 'first_name': 'Марічка'...</td>\n",
       "    </tr>\n",
       "    <tr>\n",
       "      <th>6</th>\n",
       "      <td>-1001180354971</td>\n",
       "      <td>Колодій 2021💫</td>\n",
       "      <td>Group</td>\n",
       "      <td>{'user_id': 455550602, 'first_name': 'Андрей',...</td>\n",
       "    </tr>\n",
       "    <tr>\n",
       "      <th>7</th>\n",
       "      <td>-1001180354971</td>\n",
       "      <td>Колодій 2021💫</td>\n",
       "      <td>Group</td>\n",
       "      <td>{'user_id': 503671174, 'first_name': 'Danylo',...</td>\n",
       "    </tr>\n",
       "    <tr>\n",
       "      <th>8</th>\n",
       "      <td>-1001180354971</td>\n",
       "      <td>Колодій 2021💫</td>\n",
       "      <td>Group</td>\n",
       "      <td>{'user_id': 620607419, 'first_name': 'Ромко', ...</td>\n",
       "    </tr>\n",
       "    <tr>\n",
       "      <th>9</th>\n",
       "      <td>-1001180354971</td>\n",
       "      <td>Колодій 2021💫</td>\n",
       "      <td>Group</td>\n",
       "      <td>{'user_id': 373598141, 'first_name': 'Nastya',...</td>\n",
       "    </tr>\n",
       "  </tbody>\n",
       "</table>\n",
       "</div>"
      ],
      "text/plain": [
       "       dialog_id           name     type  \\\n",
       "0 -1001157055007      Украшения  Channel   \n",
       "1 -1001166945561         Музыка  Channel   \n",
       "2 -1001166945561         Музыка  Channel   \n",
       "3 -1001180354971  Колодій 2021💫    Group   \n",
       "4 -1001180354971  Колодій 2021💫    Group   \n",
       "5 -1001180354971  Колодій 2021💫    Group   \n",
       "6 -1001180354971  Колодій 2021💫    Group   \n",
       "7 -1001180354971  Колодій 2021💫    Group   \n",
       "8 -1001180354971  Колодій 2021💫    Group   \n",
       "9 -1001180354971  Колодій 2021💫    Group   \n",
       "\n",
       "                                               users  \n",
       "0  {'user_id': 564960030, 'first_name': 'Анастаси...  \n",
       "1  {'user_id': 872142485, 'first_name': 'Мама', '...  \n",
       "2  {'user_id': 564960030, 'first_name': 'Анастаси...  \n",
       "3  {'user_id': 559734164, 'first_name': 'Angelina...  \n",
       "4  {'user_id': 443419481, 'first_name': 'Олексій'...  \n",
       "5  {'user_id': 565439585, 'first_name': 'Марічка'...  \n",
       "6  {'user_id': 455550602, 'first_name': 'Андрей',...  \n",
       "7  {'user_id': 503671174, 'first_name': 'Danylo',...  \n",
       "8  {'user_id': 620607419, 'first_name': 'Ромко', ...  \n",
       "9  {'user_id': 373598141, 'first_name': 'Nastya',...  "
      ]
     },
     "execution_count": 73,
     "metadata": {},
     "output_type": "execute_result"
    }
   ],
   "source": [
    "df_meta.head(10)"
   ]
  },
  {
   "cell_type": "code",
   "execution_count": 74,
   "id": "186f2f67",
   "metadata": {},
   "outputs": [
    {
     "data": {
      "text/plain": [
       "type\n",
       "Channel              6\n",
       "Group             2068\n",
       "Private dialog     153\n",
       "Name: type, dtype: int64"
      ]
     },
     "execution_count": 74,
     "metadata": {},
     "output_type": "execute_result"
    }
   ],
   "source": [
    "df_meta.groupby([\"type\"])[\"type\"].count()"
   ]
  },
  {
   "cell_type": "code",
   "execution_count": null,
   "id": "36bc5268",
   "metadata": {},
   "outputs": [],
   "source": []
  },
  {
   "cell_type": "code",
   "execution_count": null,
   "id": "ce8c755a",
   "metadata": {},
   "outputs": [],
   "source": []
  }
 ],
 "metadata": {
  "kernelspec": {
   "display_name": "Python 3 (ipykernel)",
   "language": "python",
   "name": "python3"
  },
  "language_info": {
   "codemirror_mode": {
    "name": "ipython",
    "version": 3
   },
   "file_extension": ".py",
   "mimetype": "text/x-python",
   "name": "python",
   "nbconvert_exporter": "python",
   "pygments_lexer": "ipython3",
   "version": "3.9.7"
  }
 },
 "nbformat": 4,
 "nbformat_minor": 5
}
